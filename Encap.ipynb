{
  "nbformat": 4,
  "nbformat_minor": 0,
  "metadata": {
    "colab": {
      "name": "Encap.ipynb",
      "provenance": [],
      "authorship_tag": "ABX9TyOP9bips2Ckwz08tVnTmdRj",
      "include_colab_link": true
    },
    "kernelspec": {
      "name": "python3",
      "display_name": "Python 3"
    }
  },
  "cells": [
    {
      "cell_type": "markdown",
      "metadata": {
        "id": "view-in-github",
        "colab_type": "text"
      },
      "source": [
        "<a href=\"https://colab.research.google.com/github/iabhi1992/Class_Code_Colab_Google_Slide/blob/main/Encap.ipynb\" target=\"_parent\"><img src=\"https://colab.research.google.com/assets/colab-badge.svg\" alt=\"Open In Colab\"/></a>"
      ]
    },
    {
      "cell_type": "markdown",
      "metadata": {
        "id": "jNtOz5vJK5qm"
      },
      "source": [
        "# In File called employee.py"
      ]
    },
    {
      "cell_type": "code",
      "metadata": {
        "id": "875mkA0_Ky9p"
      },
      "source": [
        "class Employee:\n",
        "  def __init__(self, base_sal,  hourly_wage):\n",
        "    self.base_sal = base_sal\n",
        "    self.hourly_wage = hourly_wage\n",
        "\n",
        "  def calculate_wage(self, extra_hours):\n",
        "    return self.base_sal + (extra_hours * self.hourly_wage)"
      ],
      "execution_count": 3,
      "outputs": []
    },
    {
      "cell_type": "markdown",
      "metadata": {
        "id": "VinNcIXNLB00"
      },
      "source": [
        "# In File called main.py"
      ]
    },
    {
      "cell_type": "code",
      "metadata": {
        "colab": {
          "base_uri": "https://localhost:8080/"
        },
        "id": "ubxibzJ-LGZf",
        "outputId": "496e4db0-a67d-4d2b-ab8f-f02e42c6a734"
      },
      "source": [
        "def main():\n",
        "  e1 = Employee(50000, 20)\n",
        "  print(e1.calculate_wage(10))\n",
        "\n",
        "if __name__ == '__main__':\n",
        "  main()"
      ],
      "execution_count": 4,
      "outputs": [
        {
          "output_type": "stream",
          "text": [
            "50200\n"
          ],
          "name": "stdout"
        }
      ]
    }
  ]
}