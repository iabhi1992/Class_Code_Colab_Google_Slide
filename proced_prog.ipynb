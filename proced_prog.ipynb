{
  "nbformat": 4,
  "nbformat_minor": 0,
  "metadata": {
    "colab": {
      "name": "proced_prog.ipynb",
      "provenance": [],
      "collapsed_sections": [],
      "authorship_tag": "ABX9TyPHaQgyTjd7N3T8aDDV0iSH",
      "include_colab_link": true
    },
    "kernelspec": {
      "name": "python3",
      "display_name": "Python 3"
    }
  },
  "cells": [
    {
      "cell_type": "markdown",
      "metadata": {
        "id": "view-in-github",
        "colab_type": "text"
      },
      "source": [
        "<a href=\"https://colab.research.google.com/github/iabhi1992/Class_Code_Colab_Google_Slide/blob/main/proced_prog.ipynb\" target=\"_parent\"><img src=\"https://colab.research.google.com/assets/colab-badge.svg\" alt=\"Open In Colab\"/></a>"
      ]
    },
    {
      "cell_type": "code",
      "metadata": {
        "colab": {
          "base_uri": "https://localhost:8080/"
        },
        "id": "ssUF-XCuHI61",
        "outputId": "9a2617db-1cac-4273-c7a6-f0e444ce39f5"
      },
      "source": [
        "base_sal = int(input('Enter Base Salary: '))\n",
        "extra_hours = int(input('Enter the Extra hours: '))\n",
        "hourly_rate = int(input('Enter hourly rate: '))\n",
        "\n",
        "def calculate_Wage(base_sal, extra_hours, hourly_rate):\n",
        "\treturn base_sal + (extra_hours * hourly_rate)\n",
        "\n",
        "print(calculate_Wage(base_sal, extra_hours, hourly_rate))"
      ],
      "execution_count": 1,
      "outputs": [
        {
          "output_type": "stream",
          "text": [
            "Enter Base Salary: 50000\n",
            "Enter the Extra hours: 10\n",
            "Enter hourly rate: 20\n",
            "50200\n"
          ],
          "name": "stdout"
        }
      ]
    }
  ]
}