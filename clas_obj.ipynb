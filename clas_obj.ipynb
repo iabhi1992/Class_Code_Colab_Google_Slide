{
  "nbformat": 4,
  "nbformat_minor": 0,
  "metadata": {
    "colab": {
      "name": "clas_obj.ipynb",
      "provenance": [],
      "authorship_tag": "ABX9TyO3PNzlnrza4EdRugG3AI2B",
      "include_colab_link": true
    },
    "kernelspec": {
      "name": "python3",
      "display_name": "Python 3"
    }
  },
  "cells": [
    {
      "cell_type": "markdown",
      "metadata": {
        "id": "view-in-github",
        "colab_type": "text"
      },
      "source": [
        "<a href=\"https://colab.research.google.com/github/iabhi1992/Class_Code_Colab_Google_Slide/blob/main/clas_obj.ipynb\" target=\"_parent\"><img src=\"https://colab.research.google.com/assets/colab-badge.svg\" alt=\"Open In Colab\"/></a>"
      ]
    },
    {
      "cell_type": "code",
      "metadata": {
        "colab": {
          "base_uri": "https://localhost:8080/"
        },
        "id": "2pR2ZzdcIVkl",
        "outputId": "863e6a30-3f80-4e88-b8bc-0ef6c6aac0d7"
      },
      "source": [
        "class Employee:\n",
        "  def __init__(self, base_sal, extra_hours, hourly_wage):\n",
        "    self.base_sal = base_sal\n",
        "    self.extra_hours = extra_hours\n",
        "    self.hourly_wage = hourly_wage\n",
        "\n",
        "  def calculate_wage(self):\n",
        "    return self.base_sal + (self.extra_hours * self.hourly_wage)\n",
        "\n",
        "def main():\n",
        "  e1 = Employee(50000, 10, 20)\n",
        "  print(e1.calculate_wage())\n",
        "\n",
        "if __name__ == '__main__':\n",
        "  main()"
      ],
      "execution_count": 4,
      "outputs": [
        {
          "output_type": "stream",
          "text": [
            "50200\n"
          ],
          "name": "stdout"
        }
      ]
    }
  ]
}