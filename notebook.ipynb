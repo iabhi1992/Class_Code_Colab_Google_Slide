{
  "nbformat": 4,
  "nbformat_minor": 0,
  "metadata": {
    "colab": {
      "name": "notebook.ipynb",
      "provenance": [],
      "collapsed_sections": [],
      "authorship_tag": "ABX9TyP46C8EODyCAoNQq0d9BTFn",
      "include_colab_link": true
    },
    "kernelspec": {
      "name": "python3",
      "display_name": "Python 3"
    }
  },
  "cells": [
    {
      "cell_type": "markdown",
      "metadata": {
        "id": "view-in-github",
        "colab_type": "text"
      },
      "source": [
        "<a href=\"https://colab.research.google.com/github/iabhi1992/Class_Code_Colab_Google_Slide/blob/main/notebook.ipynb\" target=\"_parent\"><img src=\"https://colab.research.google.com/assets/colab-badge.svg\" alt=\"Open In Colab\"/></a>"
      ]
    },
    {
      "cell_type": "markdown",
      "metadata": {
        "id": "JEN5n9rjVWw5"
      },
      "source": [
        "# In a file called notebook.py\n"
      ]
    },
    {
      "cell_type": "code",
      "metadata": {
        "colab": {
          "base_uri": "https://localhost:8080/"
        },
        "id": "shq3OEQWVYRg",
        "outputId": "f0b1f2b9-b92d-47ae-8551-11422b278281"
      },
      "source": [
        "import datetime\n",
        "\n",
        "# store the next available id for new notes\n",
        "last_id = 0\n",
        "\n",
        "class Note:\n",
        "  '''Represent a note in the notebook. Match against a string in searches and store tags for each note.'''\n",
        "  def __init__(self, memo, tags = ''):\n",
        "    '''initialize a note with memo and optional space-separated tags. Automatically set the note's creation date and unique id.'''\n",
        "    self.memo = memo\n",
        "    self.tags = tags\n",
        "    self.creation_date = datetime.date.today()\n",
        "    global last_id\n",
        "    last_id += 1\n",
        "    self.id = last_id\n",
        "\n",
        "  def match(self, filter):\n",
        "    '''Determine if this note matches the filter text. Return True if it matches, else return False. Search is case sensitive and matches both \n",
        "    text and tags'''\n",
        "    return filter in self.memo or filter in self.tags\n",
        "\n",
        "\n",
        "# Test code\n",
        "n1 = Note('Hello First')\n",
        "n2 = Note('Hello Again')\n",
        "print(n1.match('First'))\n",
        "print(n2.match('Second'))\n",
        "print(n1.id)\n",
        "print(n2.id)\n",
        "\n",
        "\n"
      ],
      "execution_count": 2,
      "outputs": [
        {
          "output_type": "stream",
          "text": [
            "True\n",
            "False\n",
            "1\n",
            "2\n"
          ],
          "name": "stdout"
        }
      ]
    },
    {
      "cell_type": "code",
      "metadata": {
        "colab": {
          "base_uri": "https://localhost:8080/"
        },
        "id": "Xi4FN8smVPQs",
        "outputId": "1752ccaf-52fa-4a55-f986-f02bd8237f31"
      },
      "source": [
        "class Notebook:\n",
        "  '''Represent a collection of notes that can be tagged, modified and searched.'''\n",
        "  def __init__(self):\n",
        "    '''Initialize a notebook with an emoty list.'''\n",
        "    self.notes = []\n",
        "\n",
        "  def new_note(self, memo, tags = ''):\n",
        "    '''create a new note and add it to the list.'''\n",
        "    self.notes.append(Note(memo, tags))\n",
        "\n",
        "  def modify_memo(self, note_id, memo):\n",
        "    '''Find the note with given id and change its memo to the given value.'''\n",
        "    for note in self.notes:\n",
        "      if note.id == note_id:\n",
        "        note.memo = memo\n",
        "        break\n",
        "\n",
        "  def modify_tags(self, note_id, tags):\n",
        "    '''Find the note with given id and change its tags to the given value.'''\n",
        "    for note in self.notes:\n",
        "      if note.id == note_id:\n",
        "        note.tags = tags\n",
        "        break\n",
        "\n",
        "  def search(self, filter):\n",
        "    '''Find all notes that match the given filter string.'''\n",
        "    return [note for note in self.notes if note.match(filter)]\n",
        "\n",
        "# Test code\n",
        "n = Notebook()\n",
        "n.new_note('Hello First')\n",
        "n.new_note('Hello Again')\n",
        "print(n.notes)\n",
        "print(n.notes[0].id)\n",
        "print(n.notes[1].id)\n",
        "print(n.notes[0].memo)\n",
        "\n"
      ],
      "execution_count": 5,
      "outputs": [
        {
          "output_type": "stream",
          "text": [
            "[<__main__.Note object at 0x7f50d1c3e470>, <__main__.Note object at 0x7f50d1c3e198>]\n",
            "7\n",
            "8\n",
            "Hello First\n"
          ],
          "name": "stdout"
        }
      ]
    },
    {
      "cell_type": "code",
      "metadata": {
        "id": "s28a2R_Sqvra"
      },
      "source": [
        "class Notebook:\n",
        "  '''Represent a collection of notes that can be tagged, modified and searched.'''\n",
        "  def __init__(self):\n",
        "    '''Initialize a notebook with an emoty list.'''\n",
        "    self.notes = []\n",
        "\n",
        "  def new_note(self, memo, tags = ''):\n",
        "    '''create a new note and add it to the list.'''\n",
        "    self.notes.append(Note(memo, tags))\n",
        "\n",
        "  def _find_note(self, note_id):\n",
        "    '''Locate the note with given id.'''\n",
        "    for note in self.notes:\n",
        "      if note.id == note_id:\n",
        "        return note\n",
        "      return None\n",
        "\n",
        "  def modify_memo(self, note_id, memo):\n",
        "    '''Find the note with given id and change its memo to the given value.'''\n",
        "    self._find_note(note_id).memo = memo \n",
        "\n",
        "  def modify_tags(self, note_id, tags):\n",
        "    '''Find the note with given id and change its tags to the given value.'''\n",
        "    self._find_note(note_id).tags = tags\n",
        "\n",
        "  def search(self, filter):\n",
        "    '''Find all notes that match the given filter string.'''\n",
        "    return [note for note in self.notes if note.match(filter)]\n",
        "\n",
        "# Test code\n",
        "n = Notebook()\n",
        "n.new_note('Hello First')\n",
        "n.new_note('Hello Again')\n",
        "print(n.notes)\n",
        "print(n.notes[0].id)\n",
        "print(n.notes[1].id)\n",
        "print(n.notes[0].memo)\n",
        "\n"
      ],
      "execution_count": null,
      "outputs": []
    },
    {
      "cell_type": "markdown",
      "metadata": {
        "id": "o6J7X2dDtZq0"
      },
      "source": [
        "# In a file called menu.py"
      ]
    },
    {
      "cell_type": "code",
      "metadata": {
        "colab": {
          "base_uri": "https://localhost:8080/",
          "height": 368
        },
        "id": "tCO7bBtQthD_",
        "outputId": "1164a1b7-e661-4a59-bded-d4fc190652c7"
      },
      "source": [
        "import sys\n",
        "from notebook import Note, Notebook\n",
        "\n",
        "class Menu:\n",
        "  '''Display a menu and respond to choices when run.'''\n",
        "  def __init__(self):\n",
        "    self.notebook = Notebook()\n",
        "    self. choices = {\n",
        "        \"1\" : self.show_notes,\n",
        "        \"2\" : self.search_notes,\n",
        "        \"3\" : self. add_note,\n",
        "        \"4\" : self.modify_note,\n",
        "        \"5\" : self.quit\n",
        "    }\n",
        "\n",
        "  def display_menu(self):\n",
        "    print(\"\"\"\n",
        "    NoteBook Menu\n",
        "    \n",
        "    1. Show all Notes\n",
        "    2. Search Notes\n",
        "    3. Add Note\n",
        "    4. Modify Note\n",
        "    5. Quit\n",
        "    \"\"\")\n",
        "\n",
        "  def run(self):\n",
        "    \"\"\"Display the menu and respond to choices.\"\"\"\n",
        "    while True:\n",
        "      self.display_menu()\n",
        "      choice = input('Enter an option: ')\n",
        "      action = self.choices.get(choice)\n",
        "      if action:\n",
        "        action()\n",
        "      else:\n",
        "        print(f'{action} is not a valid choice')\n",
        "\n",
        "  def show_notes(self, notes = None):\n",
        "    if not notes:\n",
        "      notes = self.notebook.notes\n",
        "    for note in Notes:\n",
        "      print(f'{note.id} : {note.tags}\\n{note.memo}')\n",
        "\n",
        "  def search_notes(self):\n",
        "    filter = input('Search for: ')\n",
        "    notes = self.notebook.search(filter)\n",
        "    self.show_notes(notes)\n",
        "\n",
        "  def add_note(self):\n",
        "    memo = input('Enter a memo: ')\n",
        "    self.notebook.new_note(memo)\n",
        "    print('Yur note has been added')\n",
        "\n",
        "  def modify_note(self):\n",
        "    id = input('Enter a note id: ')\n",
        "    memo = input('Enter a memo: ')\n",
        "    tags = input('Enter tags: ')\n",
        "    if memo:\n",
        "      self.notebook.modify_memo(id, memo)\n",
        "    if tags:\n",
        "      self.notebook.modify_tags(id, tags)\n",
        "\n",
        "  def quit(self):\n",
        "    print(\"Thnk you for using your notebook today!!!\")\n",
        "    sys.exit(0)\n",
        "\n",
        "if __name__ == '__main__':\n",
        "  Menu().run()\n"
      ],
      "execution_count": 6,
      "outputs": [
        {
          "output_type": "error",
          "ename": "ImportError",
          "evalue": "ignored",
          "traceback": [
            "\u001b[0;31m---------------------------------------------------------------------------\u001b[0m",
            "\u001b[0;31mImportError\u001b[0m                               Traceback (most recent call last)",
            "\u001b[0;32m<ipython-input-6-a309930cc5ba>\u001b[0m in \u001b[0;36m<module>\u001b[0;34m()\u001b[0m\n\u001b[1;32m      1\u001b[0m \u001b[0;32mimport\u001b[0m \u001b[0msys\u001b[0m\u001b[0;34m\u001b[0m\u001b[0;34m\u001b[0m\u001b[0m\n\u001b[0;32m----> 2\u001b[0;31m \u001b[0;32mfrom\u001b[0m \u001b[0mnotebook\u001b[0m \u001b[0;32mimport\u001b[0m \u001b[0mNote\u001b[0m\u001b[0;34m,\u001b[0m \u001b[0mNotebook\u001b[0m\u001b[0;34m\u001b[0m\u001b[0;34m\u001b[0m\u001b[0m\n\u001b[0m\u001b[1;32m      3\u001b[0m \u001b[0;34m\u001b[0m\u001b[0m\n\u001b[1;32m      4\u001b[0m \u001b[0;32mclass\u001b[0m \u001b[0mMenu\u001b[0m\u001b[0;34m:\u001b[0m\u001b[0;34m\u001b[0m\u001b[0;34m\u001b[0m\u001b[0m\n\u001b[1;32m      5\u001b[0m   \u001b[0;34m'''Display a menu and respond to choices when run.'''\u001b[0m\u001b[0;34m\u001b[0m\u001b[0;34m\u001b[0m\u001b[0m\n",
            "\u001b[0;31mImportError\u001b[0m: cannot import name 'Note'",
            "",
            "\u001b[0;31m---------------------------------------------------------------------------\u001b[0;32m\nNOTE: If your import is failing due to a missing package, you can\nmanually install dependencies using either !pip or !apt.\n\nTo view examples of installing some common dependencies, click the\n\"Open Examples\" button below.\n\u001b[0;31m---------------------------------------------------------------------------\u001b[0m\n"
          ]
        }
      ]
    }
  ]
}